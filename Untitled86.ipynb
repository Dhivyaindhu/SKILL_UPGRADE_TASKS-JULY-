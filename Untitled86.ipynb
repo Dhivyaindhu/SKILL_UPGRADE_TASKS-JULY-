{
  "nbformat": 4,
  "nbformat_minor": 0,
  "metadata": {
    "colab": {
      "provenance": [],
      "authorship_tag": "ABX9TyMUBOyJUXFCqsnMhlT9mKIC",
      "include_colab_link": true
    },
    "kernelspec": {
      "name": "python3",
      "display_name": "Python 3"
    },
    "language_info": {
      "name": "python"
    }
  },
  "cells": [
    {
      "cell_type": "markdown",
      "metadata": {
        "id": "view-in-github",
        "colab_type": "text"
      },
      "source": [
        "<a href=\"https://colab.research.google.com/github/Dhivyaindhu/SKILL_UPGRADE_TASKS-JULY-/blob/main/Untitled86.ipynb\" target=\"_parent\"><img src=\"https://colab.research.google.com/assets/colab-badge.svg\" alt=\"Open In Colab\"/></a>"
      ]
    },
    {
      "cell_type": "markdown",
      "source": [
        "[link text](https://)"
      ],
      "metadata": {
        "id": "M3ZoxiiFkdQJ"
      }
    },
    {
      "cell_type": "markdown",
      "source": [
        "task-1(spliting training and testing dataset)"
      ],
      "metadata": {
        "id": "dl5DIADkk5yy"
      }
    },
    {
      "cell_type": "code",
      "execution_count": 69,
      "metadata": {
        "id": "SxiwFBUl8chV"
      },
      "outputs": [],
      "source": [
        "import pandas as pd\n",
        "from sklearn.preprocessing import StandardScaler, LabelEncoder\n",
        "from sklearn.model_selection import train_test_split\n",
        "\n",
        "# Load your dataset\n",
        "data = pd.read_csv('/content/movies_1980_2020_30k.csv')\n",
        "\n",
        "# Handle missing values for numerical columns only\n",
        "numeric_data = data.select_dtypes(include=['number'])\n",
        "data[numeric_data.columns] = numeric_data.fillna(numeric_data.median())\n",
        "# Encode categorical variables\n",
        "for col in data.select_dtypes(include=['object']).columns:\n",
        "    label_encoder = LabelEncoder()\n",
        "    data[col] = label_encoder.fit_transform(data[col])\n",
        "\n",
        "# Scale features\n",
        "scaler = StandardScaler()\n",
        "data_scaled = scaler.fit_transform(data)\n",
        "data_scaled = pd.DataFrame(data_scaled, columns=data.columns)\n",
        "\n",
        "# Specify the name of your target column\n",
        "target_column = 'Rating'\n",
        "\n",
        "# Split the data into features and target\n",
        "X = data_scaled.drop(target_column, axis=1)\n",
        "y = data_scaled[target_column]\n",
        "\n",
        "# Split the data into training and testing sets\n",
        "X_train, X_test, y_train, y_test = train_test_split(X, y, test_size=0.2, random_state=42)"
      ]
    },
    {
      "cell_type": "code",
      "source": [
        "task-2(training generative AI model using tensorflow)"
      ],
      "metadata": {
        "id": "2EdF3zCUzgvL"
      },
      "execution_count": null,
      "outputs": []
    },
    {
      "cell_type": "code",
      "execution_count": 70,
      "metadata": {
        "id": "hdcp1JZE8qnA"
      },
      "outputs": [],
      "source": [
        "import tensorflow as tf\n",
        "from tensorflow.keras.layers import Input, Dense, Lambda\n",
        "from tensorflow.keras.models import Model\n",
        "from tensorflow.keras.losses import mse\n",
        "from tensorflow.keras import backend as K\n",
        "\n",
        "# Network parameters\n",
        "input_dim = X_train.shape[1]\n",
        "latent_dim = 2  # Dimensionality of the latent space\n",
        "intermediate_dim = 64\n",
        "\n",
        "# Encoder model\n",
        "inputs = Input(shape=(input_dim,))\n",
        "h = Dense(intermediate_dim, activation='relu')(inputs)\n",
        "z_mean = Dense(latent_dim)(h)\n",
        "z_log_var = Dense(latent_dim)(h)\n",
        "\n",
        "# Sampling function\n",
        "def sampling(args):\n",
        "    z_mean, z_log_var = args\n",
        "    batch = tf.shape(z_mean)[0]\n",
        "    dim = tf.shape(z_mean)[1]\n",
        "    epsilon = tf.keras.backend.random_normal(shape=(batch, dim))\n",
        "    return z_mean + tf.exp(0.5 * z_log_var) * epsilon\n",
        "\n",
        "# Sample z\n",
        "z = Lambda(sampling, output_shape=(latent_dim,))([z_mean, z_log_var])\n",
        "\n",
        "# Decoder model\n",
        "decoder_h = Dense(intermediate_dim, activation='relu')\n",
        "decoder_mean = Dense(input_dim, activation='sigmoid')\n",
        "h_decoded = decoder_h(z)\n",
        "x_decoded_mean = decoder_mean(h_decoded)\n",
        "\n",
        "# VAE model\n",
        "vae = Model(inputs, x_decoded_mean)\n",
        "\n",
        "# Compute VAE loss\n",
        "reconstruction_loss = mse(inputs, x_decoded_mean) * input_dim\n",
        "kl_loss = - 0.5 * K.sum(1 + z_log_var - K.square(z_mean) - K.exp(z_log_var), axis=-1)\n",
        "vae_loss = K.mean(reconstruction_loss + kl_loss)\n",
        "vae.add_loss(vae_loss)\n",
        "\n",
        "# Compile the VAE\n",
        "vae.compile(optimizer='adam')"
      ]
    },
    {
      "cell_type": "code",
      "execution_count": 71,
      "metadata": {
        "colab": {
          "base_uri": "https://localhost:8080/"
        },
        "id": "e4yxMraR9BL5",
        "outputId": "f86ee9c2-dd7e-47e4-8744-371754d18066"
      },
      "outputs": [
        {
          "output_type": "stream",
          "name": "stdout",
          "text": [
            "Epoch 1/50\n",
            "750/750 [==============================] - 4s 4ms/step - loss: 5.1954 - val_loss: 4.9853\n",
            "Epoch 2/50\n",
            "750/750 [==============================] - 2s 2ms/step - loss: 5.0101 - val_loss: 4.9764\n",
            "Epoch 3/50\n",
            "750/750 [==============================] - 2s 2ms/step - loss: 5.0076 - val_loss: 4.9763\n",
            "Epoch 4/50\n",
            "750/750 [==============================] - 2s 2ms/step - loss: 5.0068 - val_loss: 4.9760\n",
            "Epoch 5/50\n",
            "750/750 [==============================] - 2s 2ms/step - loss: 5.0064 - val_loss: 4.9758\n",
            "Epoch 6/50\n",
            "750/750 [==============================] - 2s 2ms/step - loss: 5.0065 - val_loss: 4.9753\n",
            "Epoch 7/50\n",
            "750/750 [==============================] - 3s 3ms/step - loss: 5.0063 - val_loss: 4.9753\n",
            "Epoch 8/50\n",
            "750/750 [==============================] - 3s 3ms/step - loss: 5.0062 - val_loss: 4.9754\n",
            "Epoch 9/50\n",
            "750/750 [==============================] - 2s 2ms/step - loss: 5.0062 - val_loss: 4.9753\n",
            "Epoch 10/50\n",
            "750/750 [==============================] - 2s 3ms/step - loss: 5.0062 - val_loss: 4.9753\n",
            "Epoch 11/50\n",
            "750/750 [==============================] - 2s 2ms/step - loss: 5.0062 - val_loss: 4.9753\n",
            "Epoch 12/50\n",
            "750/750 [==============================] - 2s 2ms/step - loss: 5.0061 - val_loss: 4.9752\n",
            "Epoch 13/50\n",
            "750/750 [==============================] - 2s 2ms/step - loss: 5.0061 - val_loss: 4.9753\n",
            "Epoch 14/50\n",
            "750/750 [==============================] - 3s 4ms/step - loss: 5.0063 - val_loss: 4.9756\n",
            "Epoch 15/50\n",
            "750/750 [==============================] - 2s 3ms/step - loss: 5.0063 - val_loss: 4.9753\n",
            "Epoch 16/50\n",
            "750/750 [==============================] - 2s 2ms/step - loss: 5.0062 - val_loss: 4.9750\n",
            "Epoch 17/50\n",
            "750/750 [==============================] - 2s 2ms/step - loss: 5.0062 - val_loss: 4.9752\n",
            "Epoch 18/50\n",
            "750/750 [==============================] - 2s 2ms/step - loss: 5.0061 - val_loss: 4.9752\n",
            "Epoch 19/50\n",
            "750/750 [==============================] - 2s 2ms/step - loss: 5.0062 - val_loss: 4.9752\n",
            "Epoch 20/50\n",
            "750/750 [==============================] - 3s 3ms/step - loss: 5.0061 - val_loss: 4.9752\n",
            "Epoch 21/50\n",
            "750/750 [==============================] - 3s 3ms/step - loss: 5.0061 - val_loss: 4.9752\n",
            "Epoch 22/50\n",
            "750/750 [==============================] - 2s 2ms/step - loss: 5.0061 - val_loss: 4.9752\n",
            "Epoch 23/50\n",
            "750/750 [==============================] - 2s 2ms/step - loss: 5.0061 - val_loss: 4.9752\n",
            "Epoch 24/50\n",
            "750/750 [==============================] - 2s 3ms/step - loss: 5.0061 - val_loss: 4.9752\n",
            "Epoch 25/50\n",
            "750/750 [==============================] - 2s 2ms/step - loss: 5.0062 - val_loss: 4.9752\n",
            "Epoch 26/50\n",
            "750/750 [==============================] - 2s 2ms/step - loss: 5.0062 - val_loss: 4.9752\n",
            "Epoch 27/50\n",
            "750/750 [==============================] - 3s 4ms/step - loss: 5.0061 - val_loss: 4.9752\n",
            "Epoch 28/50\n",
            "750/750 [==============================] - 2s 3ms/step - loss: 5.0061 - val_loss: 4.9752\n",
            "Epoch 29/50\n",
            "750/750 [==============================] - 2s 3ms/step - loss: 5.0061 - val_loss: 4.9761\n",
            "Epoch 30/50\n",
            "750/750 [==============================] - 2s 3ms/step - loss: 5.0062 - val_loss: 4.9755\n",
            "Epoch 31/50\n",
            "750/750 [==============================] - 2s 3ms/step - loss: 5.0062 - val_loss: 4.9752\n",
            "Epoch 32/50\n",
            "750/750 [==============================] - 2s 3ms/step - loss: 5.0061 - val_loss: 4.9753\n",
            "Epoch 33/50\n",
            "750/750 [==============================] - 2s 3ms/step - loss: 5.0061 - val_loss: 4.9753\n",
            "Epoch 34/50\n",
            "750/750 [==============================] - 3s 4ms/step - loss: 5.0063 - val_loss: 4.9750\n",
            "Epoch 35/50\n",
            "750/750 [==============================] - 2s 3ms/step - loss: 5.0059 - val_loss: 4.9778\n",
            "Epoch 36/50\n",
            "750/750 [==============================] - 2s 2ms/step - loss: 4.9958 - val_loss: 4.9629\n",
            "Epoch 37/50\n",
            "750/750 [==============================] - 2s 3ms/step - loss: 4.9971 - val_loss: 4.9653\n",
            "Epoch 38/50\n",
            "750/750 [==============================] - 2s 3ms/step - loss: 4.9868 - val_loss: 4.9446\n",
            "Epoch 39/50\n",
            "750/750 [==============================] - 2s 3ms/step - loss: 4.9815 - val_loss: 4.9475\n",
            "Epoch 40/50\n",
            "750/750 [==============================] - 3s 4ms/step - loss: 4.9828 - val_loss: 4.9510\n",
            "Epoch 41/50\n",
            "750/750 [==============================] - 2s 3ms/step - loss: 4.9794 - val_loss: 4.9579\n",
            "Epoch 42/50\n",
            "750/750 [==============================] - 2s 3ms/step - loss: 4.9886 - val_loss: 4.9480\n",
            "Epoch 43/50\n",
            "750/750 [==============================] - 2s 3ms/step - loss: 4.9769 - val_loss: 4.9586\n",
            "Epoch 44/50\n",
            "750/750 [==============================] - 2s 2ms/step - loss: 4.9776 - val_loss: 4.9603\n",
            "Epoch 45/50\n",
            "750/750 [==============================] - 2s 2ms/step - loss: 4.9820 - val_loss: 4.9544\n",
            "Epoch 46/50\n",
            "750/750 [==============================] - 3s 4ms/step - loss: 4.9789 - val_loss: 4.9498\n",
            "Epoch 47/50\n",
            "750/750 [==============================] - 2s 3ms/step - loss: 4.9815 - val_loss: 4.9538\n",
            "Epoch 48/50\n",
            "750/750 [==============================] - 2s 2ms/step - loss: 4.9755 - val_loss: 4.9494\n",
            "Epoch 49/50\n",
            "750/750 [==============================] - 2s 2ms/step - loss: 4.9814 - val_loss: 4.9428\n",
            "Epoch 50/50\n",
            "750/750 [==============================] - 2s 3ms/step - loss: 4.9793 - val_loss: 4.9463\n"
          ]
        },
        {
          "output_type": "execute_result",
          "data": {
            "text/plain": [
              "<keras.src.callbacks.History at 0x7bf8af3fa290>"
            ]
          },
          "metadata": {},
          "execution_count": 71
        }
      ],
      "source": [
        "# Train the VAE\n",
        "vae.fit(X_train, X_train, epochs=50, batch_size=32, validation_data=(X_test, X_test))\n"
      ]
    },
    {
      "cell_type": "code",
      "source": [
        "# Define the decoder model\n",
        "decoder_input = Input(shape=(latent_dim,))\n",
        "_h_decoded = decoder_h(decoder_input)\n",
        "_x_decoded_mean = decoder_mean(_h_decoded)\n",
        "generator = Model(decoder_input, _x_decoded_mean)\n",
        "\n",
        "# Generate new data points\n",
        "import numpy as np\n",
        "n_samples = 100\n",
        "latent_samples = np.random.normal(size=(n_samples, latent_dim))\n",
        "generated_data = generator.predict(latent_samples)\n"
      ],
      "metadata": {
        "colab": {
          "base_uri": "https://localhost:8080/"
        },
        "id": "Y-m1nvz-0d3V",
        "outputId": "49a7f1e4-0739-40ea-eba2-f26e123b1182"
      },
      "execution_count": 72,
      "outputs": [
        {
          "output_type": "stream",
          "name": "stdout",
          "text": [
            "4/4 [==============================] - 0s 3ms/step\n"
          ]
        }
      ]
    },
    {
      "cell_type": "code",
      "source": [
        "from sklearn.ensemble import RandomForestRegressor\n",
        "from sklearn.metrics import mean_absolute_error, mean_squared_error\n",
        "\n",
        "# Assuming 'generated_data' has the same feature columns as 'X'\n",
        "generated_data_df = pd.DataFrame(generated_data, columns=X.columns)\n",
        "generated_data_df[target_column] = y.sample(n_samples, replace=True).values  # Sample target values\n",
        "\n",
        "# Split generated data into training and testing sets\n",
        "X_generated = generated_data_df.drop(target_column, axis=1)\n",
        "y_generated = generated_data_df[target_column]\n",
        "X_train_gen, X_test_gen, y_train_gen, y_test_gen = train_test_split(X_generated, y_generated, test_size=0.2, random_state=42)\n",
        "\n",
        "# Train a RandomForestRegressor\n",
        "rf_model = RandomForestRegressor(n_estimators=100, random_state=42)\n",
        "rf_model.fit(X_train_gen, y_train_gen)\n",
        "\n",
        "# Evaluate the model\n",
        "y_pred_gen = rf_model.predict(X_test_gen)\n",
        "test_mae = mean_absolute_error(y_test_gen, y_pred_gen)\n",
        "test_rmse = mean_squared_error(y_test_gen, y_pred_gen, squared=False)\n",
        "\n",
        "print(f'Test MAE: {test_mae:.4f}')\n",
        "print(f'Test RMSE: {test_rmse:.4f}')\n"
      ],
      "metadata": {
        "colab": {
          "base_uri": "https://localhost:8080/"
        },
        "id": "vYX7b0_T0g0o",
        "outputId": "23079000-9f8c-4335-cd9d-0d2ae4948510"
      },
      "execution_count": 73,
      "outputs": [
        {
          "output_type": "stream",
          "name": "stdout",
          "text": [
            "Test MAE: 0.9279\n",
            "Test RMSE: 1.1898\n"
          ]
        }
      ]
    },
    {
      "cell_type": "code",
      "source": [
        "import numpy as np\n",
        "from sklearn.metrics import accuracy_score\n",
        "\n",
        "# Round the predictions and actual values to the nearest integer\n",
        "y_test_gen_class = np.round(y_test_gen).astype(int)\n",
        "y_pred_gen_class = np.round(y_pred_gen).astype(int)\n",
        "\n",
        "# Ensure the rounded values are within a certain range\n",
        "y_test_gen_class = np.clip(y_test_gen_class, 0, 10)  # assuming ratings are between 0 and 10\n",
        "y_pred_gen_class = np.clip(y_pred_gen_class, 0, 10)\n",
        "\n",
        "# Calculate accuracy\n",
        "accuracy = accuracy_score(y_test_gen_class, y_pred_gen_class)\n",
        "print(f'Test Accuracy: {accuracy:.4f}')\n"
      ],
      "metadata": {
        "colab": {
          "base_uri": "https://localhost:8080/"
        },
        "id": "Joa2mJxQ0vzK",
        "outputId": "6804852a-f274-4275-ac77-7f790f1dd451"
      },
      "execution_count": 74,
      "outputs": [
        {
          "output_type": "stream",
          "name": "stdout",
          "text": [
            "Test Accuracy: 0.6500\n"
          ]
        }
      ]
    },
    {
      "cell_type": "code",
      "source": [
        "import tensorflow as tf\n",
        "from tensorflow.keras.layers import Input, Dense, Lambda\n",
        "from tensorflow.keras.models import Model\n",
        "from tensorflow.keras.losses import mse\n",
        "from tensorflow.keras import backend as K\n",
        "\n",
        "# Network parameters\n",
        "input_dim = X_train.shape[1]\n",
        "latent_dim = 2  # Dimensionality of the latent space\n",
        "intermediate_dim = 32  # Reduced for faster training\n",
        "\n",
        "# Encoder model\n",
        "inputs = Input(shape=(input_dim,))\n",
        "h = Dense(intermediate_dim, activation='relu')(inputs)\n",
        "z_mean = Dense(latent_dim)(h)\n",
        "z_log_var = Dense(latent_dim)(h)\n",
        "\n",
        "# Sampling function\n",
        "def sampling(args):\n",
        "    z_mean, z_log_var = args\n",
        "    batch = tf.shape(z_mean)[0]\n",
        "    dim = tf.shape(z_mean)[1]\n",
        "    epsilon = tf.keras.backend.random_normal(shape=(batch, dim))\n",
        "    return z_mean + tf.exp(0.5 * z_log_var) * epsilon\n",
        "\n",
        "# Sample z\n",
        "z = Lambda(sampling, output_shape=(latent_dim,))([z_mean, z_log_var])\n",
        "\n",
        "# Decoder model\n",
        "decoder_h = Dense(intermediate_dim, activation='relu')\n",
        "decoder_mean = Dense(input_dim, activation='sigmoid')\n",
        "h_decoded = decoder_h(z)\n",
        "x_decoded_mean = decoder_mean(h_decoded)\n",
        "\n",
        "# VAE model\n",
        "vae = Model(inputs, x_decoded_mean)\n",
        "\n",
        "# Compute VAE loss\n",
        "reconstruction_loss = mse(inputs, x_decoded_mean) * input_dim\n",
        "kl_loss = - 0.5 * K.sum(1 + z_log_var - K.square(z_mean) - K.exp(z_log_var), axis=-1)\n",
        "vae_loss = K.mean(reconstruction_loss + kl_loss)\n",
        "vae.add_loss(vae_loss)\n",
        "\n",
        "# Compile the VAE\n",
        "vae.compile(optimizer='adam')\n",
        "\n",
        "# Train the VAE\n",
        "vae.fit(X_train, X_train, epochs=10, batch_size=16, validation_data=(X_test, X_test))\n"
      ],
      "metadata": {
        "colab": {
          "base_uri": "https://localhost:8080/"
        },
        "id": "j6sYMviU1-K9",
        "outputId": "ecce9653-1827-4c7f-fe8a-02d839eb4d5b"
      },
      "execution_count": 75,
      "outputs": [
        {
          "output_type": "stream",
          "name": "stdout",
          "text": [
            "Epoch 1/10\n",
            "1500/1500 [==============================] - 6s 4ms/step - loss: 5.1592 - val_loss: 4.9801\n",
            "Epoch 2/10\n",
            "1500/1500 [==============================] - 4s 2ms/step - loss: 5.0047 - val_loss: 4.9712\n",
            "Epoch 3/10\n",
            "1500/1500 [==============================] - 4s 2ms/step - loss: 4.9978 - val_loss: 4.9698\n",
            "Epoch 4/10\n",
            "1500/1500 [==============================] - 5s 3ms/step - loss: 4.9976 - val_loss: 4.9727\n",
            "Epoch 5/10\n",
            "1500/1500 [==============================] - 4s 2ms/step - loss: 4.9962 - val_loss: 4.9545\n",
            "Epoch 6/10\n",
            "1500/1500 [==============================] - 4s 2ms/step - loss: 4.9905 - val_loss: 4.9588\n",
            "Epoch 7/10\n",
            "1500/1500 [==============================] - 4s 3ms/step - loss: 4.9953 - val_loss: 4.9676\n",
            "Epoch 8/10\n",
            "1500/1500 [==============================] - 5s 3ms/step - loss: 4.9968 - val_loss: 4.9498\n",
            "Epoch 9/10\n",
            "1500/1500 [==============================] - 4s 2ms/step - loss: 4.9902 - val_loss: 4.9631\n",
            "Epoch 10/10\n",
            "1500/1500 [==============================] - 3s 2ms/step - loss: 4.9979 - val_loss: 4.9676\n"
          ]
        },
        {
          "output_type": "execute_result",
          "data": {
            "text/plain": [
              "<keras.src.callbacks.History at 0x7bf8af1e1b10>"
            ]
          },
          "metadata": {},
          "execution_count": 75
        }
      ]
    },
    {
      "cell_type": "code",
      "source": [
        "from sklearn.linear_model import LinearRegression\n",
        "from sklearn.metrics import mean_squared_error, mean_absolute_error, r2_score\n",
        "\n",
        "# Encode the data using the encoder part of the VAE\n",
        "encoder = Model(inputs, z_mean)\n",
        "X_train_encoded = encoder.predict(X_train)\n",
        "X_test_encoded = encoder.predict(X_test)\n",
        "\n",
        "# Train a simple Linear Regression model\n",
        "regressor = LinearRegression()\n",
        "regressor.fit(X_train_encoded, y_train)\n",
        "\n",
        "# Evaluate the regressor\n",
        "y_pred = regressor.predict(X_test_encoded)\n",
        "test_mse = mean_squared_error(y_test, y_pred)\n",
        "test_mae = mean_absolute_error(y_test, y_pred)\n",
        "test_r2 = r2_score(y_test, y_pred)\n",
        "\n",
        "print(f'Test MSE: {test_mse:.4f}')\n",
        "print(f'Test MAE: {test_mae:.4f}')\n",
        "print(f'Test R²: {test_r2:.4f}')\n"
      ],
      "metadata": {
        "colab": {
          "base_uri": "https://localhost:8080/"
        },
        "id": "FIe1GDdU257x",
        "outputId": "9447257c-aa21-4ee5-bc0c-d674f660dae1"
      },
      "execution_count": 76,
      "outputs": [
        {
          "output_type": "stream",
          "name": "stdout",
          "text": [
            "750/750 [==============================] - 1s 1ms/step\n",
            "188/188 [==============================] - 0s 1ms/step\n",
            "Test MSE: 1.0004\n",
            "Test MAE: 0.8622\n",
            "Test R²: -0.0000\n"
          ]
        }
      ]
    },
    {
      "cell_type": "markdown",
      "source": [
        "Task-3(FastApI) implementation"
      ],
      "metadata": {
        "id": "lGQGaAeej2M0"
      }
    },
    {
      "cell_type": "code",
      "source": [
        "!pip install fastapi uvicorn nest_asyncio tensorflow joblib\n"
      ],
      "metadata": {
        "colab": {
          "base_uri": "https://localhost:8080/"
        },
        "id": "aupTnsgv3jmp",
        "outputId": "d77b6432-f2c4-40a8-82c6-8193c152cf63"
      },
      "execution_count": 77,
      "outputs": [
        {
          "output_type": "stream",
          "name": "stdout",
          "text": [
            "Requirement already satisfied: fastapi in /usr/local/lib/python3.10/dist-packages (0.111.1)\n",
            "Requirement already satisfied: uvicorn in /usr/local/lib/python3.10/dist-packages (0.30.3)\n",
            "Requirement already satisfied: nest_asyncio in /usr/local/lib/python3.10/dist-packages (1.6.0)\n",
            "Requirement already satisfied: tensorflow in /usr/local/lib/python3.10/dist-packages (2.15.0)\n",
            "Requirement already satisfied: joblib in /usr/local/lib/python3.10/dist-packages (1.4.2)\n",
            "Requirement already satisfied: starlette<0.38.0,>=0.37.2 in /usr/local/lib/python3.10/dist-packages (from fastapi) (0.37.2)\n",
            "Requirement already satisfied: pydantic!=1.8,!=1.8.1,!=2.0.0,!=2.0.1,!=2.1.0,<3.0.0,>=1.7.4 in /usr/local/lib/python3.10/dist-packages (from fastapi) (2.8.2)\n",
            "Requirement already satisfied: typing-extensions>=4.8.0 in /usr/local/lib/python3.10/dist-packages (from fastapi) (4.12.2)\n",
            "Requirement already satisfied: fastapi-cli>=0.0.2 in /usr/local/lib/python3.10/dist-packages (from fastapi) (0.0.4)\n",
            "Requirement already satisfied: httpx>=0.23.0 in /usr/local/lib/python3.10/dist-packages (from fastapi) (0.27.0)\n",
            "Requirement already satisfied: jinja2>=2.11.2 in /usr/local/lib/python3.10/dist-packages (from fastapi) (3.1.4)\n",
            "Requirement already satisfied: python-multipart>=0.0.7 in /usr/local/lib/python3.10/dist-packages (from fastapi) (0.0.9)\n",
            "Requirement already satisfied: email_validator>=2.0.0 in /usr/local/lib/python3.10/dist-packages (from fastapi) (2.2.0)\n",
            "Requirement already satisfied: click>=7.0 in /usr/local/lib/python3.10/dist-packages (from uvicorn) (8.1.7)\n",
            "Requirement already satisfied: h11>=0.8 in /usr/local/lib/python3.10/dist-packages (from uvicorn) (0.14.0)\n",
            "Requirement already satisfied: absl-py>=1.0.0 in /usr/local/lib/python3.10/dist-packages (from tensorflow) (1.4.0)\n",
            "Requirement already satisfied: astunparse>=1.6.0 in /usr/local/lib/python3.10/dist-packages (from tensorflow) (1.6.3)\n",
            "Requirement already satisfied: flatbuffers>=23.5.26 in /usr/local/lib/python3.10/dist-packages (from tensorflow) (24.3.25)\n",
            "Requirement already satisfied: gast!=0.5.0,!=0.5.1,!=0.5.2,>=0.2.1 in /usr/local/lib/python3.10/dist-packages (from tensorflow) (0.6.0)\n",
            "Requirement already satisfied: google-pasta>=0.1.1 in /usr/local/lib/python3.10/dist-packages (from tensorflow) (0.2.0)\n",
            "Requirement already satisfied: h5py>=2.9.0 in /usr/local/lib/python3.10/dist-packages (from tensorflow) (3.11.0)\n",
            "Requirement already satisfied: libclang>=13.0.0 in /usr/local/lib/python3.10/dist-packages (from tensorflow) (18.1.1)\n",
            "Requirement already satisfied: ml-dtypes~=0.2.0 in /usr/local/lib/python3.10/dist-packages (from tensorflow) (0.2.0)\n",
            "Requirement already satisfied: numpy<2.0.0,>=1.23.5 in /usr/local/lib/python3.10/dist-packages (from tensorflow) (1.25.2)\n",
            "Requirement already satisfied: opt-einsum>=2.3.2 in /usr/local/lib/python3.10/dist-packages (from tensorflow) (3.3.0)\n",
            "Requirement already satisfied: packaging in /usr/local/lib/python3.10/dist-packages (from tensorflow) (24.1)\n",
            "Requirement already satisfied: protobuf!=4.21.0,!=4.21.1,!=4.21.2,!=4.21.3,!=4.21.4,!=4.21.5,<5.0.0dev,>=3.20.3 in /usr/local/lib/python3.10/dist-packages (from tensorflow) (3.20.3)\n",
            "Requirement already satisfied: setuptools in /usr/local/lib/python3.10/dist-packages (from tensorflow) (71.0.4)\n",
            "Requirement already satisfied: six>=1.12.0 in /usr/local/lib/python3.10/dist-packages (from tensorflow) (1.16.0)\n",
            "Requirement already satisfied: termcolor>=1.1.0 in /usr/local/lib/python3.10/dist-packages (from tensorflow) (2.4.0)\n",
            "Requirement already satisfied: wrapt<1.15,>=1.11.0 in /usr/local/lib/python3.10/dist-packages (from tensorflow) (1.14.1)\n",
            "Requirement already satisfied: tensorflow-io-gcs-filesystem>=0.23.1 in /usr/local/lib/python3.10/dist-packages (from tensorflow) (0.37.1)\n",
            "Requirement already satisfied: grpcio<2.0,>=1.24.3 in /usr/local/lib/python3.10/dist-packages (from tensorflow) (1.64.1)\n",
            "Requirement already satisfied: tensorboard<2.16,>=2.15 in /usr/local/lib/python3.10/dist-packages (from tensorflow) (2.15.2)\n",
            "Requirement already satisfied: tensorflow-estimator<2.16,>=2.15.0 in /usr/local/lib/python3.10/dist-packages (from tensorflow) (2.15.0)\n",
            "Requirement already satisfied: keras<2.16,>=2.15.0 in /usr/local/lib/python3.10/dist-packages (from tensorflow) (2.15.0)\n",
            "Requirement already satisfied: wheel<1.0,>=0.23.0 in /usr/local/lib/python3.10/dist-packages (from astunparse>=1.6.0->tensorflow) (0.43.0)\n",
            "Requirement already satisfied: dnspython>=2.0.0 in /usr/local/lib/python3.10/dist-packages (from email_validator>=2.0.0->fastapi) (2.6.1)\n",
            "Requirement already satisfied: idna>=2.0.0 in /usr/local/lib/python3.10/dist-packages (from email_validator>=2.0.0->fastapi) (3.7)\n",
            "Requirement already satisfied: typer>=0.12.3 in /usr/local/lib/python3.10/dist-packages (from fastapi-cli>=0.0.2->fastapi) (0.12.3)\n",
            "Requirement already satisfied: anyio in /usr/local/lib/python3.10/dist-packages (from httpx>=0.23.0->fastapi) (3.7.1)\n",
            "Requirement already satisfied: certifi in /usr/local/lib/python3.10/dist-packages (from httpx>=0.23.0->fastapi) (2024.7.4)\n",
            "Requirement already satisfied: httpcore==1.* in /usr/local/lib/python3.10/dist-packages (from httpx>=0.23.0->fastapi) (1.0.5)\n",
            "Requirement already satisfied: sniffio in /usr/local/lib/python3.10/dist-packages (from httpx>=0.23.0->fastapi) (1.3.1)\n",
            "Requirement already satisfied: MarkupSafe>=2.0 in /usr/local/lib/python3.10/dist-packages (from jinja2>=2.11.2->fastapi) (2.1.5)\n",
            "Requirement already satisfied: annotated-types>=0.4.0 in /usr/local/lib/python3.10/dist-packages (from pydantic!=1.8,!=1.8.1,!=2.0.0,!=2.0.1,!=2.1.0,<3.0.0,>=1.7.4->fastapi) (0.7.0)\n",
            "Requirement already satisfied: pydantic-core==2.20.1 in /usr/local/lib/python3.10/dist-packages (from pydantic!=1.8,!=1.8.1,!=2.0.0,!=2.0.1,!=2.1.0,<3.0.0,>=1.7.4->fastapi) (2.20.1)\n",
            "Requirement already satisfied: google-auth<3,>=1.6.3 in /usr/local/lib/python3.10/dist-packages (from tensorboard<2.16,>=2.15->tensorflow) (2.27.0)\n",
            "Requirement already satisfied: google-auth-oauthlib<2,>=0.5 in /usr/local/lib/python3.10/dist-packages (from tensorboard<2.16,>=2.15->tensorflow) (1.2.1)\n",
            "Requirement already satisfied: markdown>=2.6.8 in /usr/local/lib/python3.10/dist-packages (from tensorboard<2.16,>=2.15->tensorflow) (3.6)\n",
            "Requirement already satisfied: requests<3,>=2.21.0 in /usr/local/lib/python3.10/dist-packages (from tensorboard<2.16,>=2.15->tensorflow) (2.31.0)\n",
            "Requirement already satisfied: tensorboard-data-server<0.8.0,>=0.7.0 in /usr/local/lib/python3.10/dist-packages (from tensorboard<2.16,>=2.15->tensorflow) (0.7.2)\n",
            "Requirement already satisfied: werkzeug>=1.0.1 in /usr/local/lib/python3.10/dist-packages (from tensorboard<2.16,>=2.15->tensorflow) (3.0.3)\n",
            "Requirement already satisfied: httptools>=0.5.0 in /usr/local/lib/python3.10/dist-packages (from uvicorn[standard]>=0.12.0->fastapi) (0.6.1)\n",
            "Requirement already satisfied: python-dotenv>=0.13 in /usr/local/lib/python3.10/dist-packages (from uvicorn[standard]>=0.12.0->fastapi) (1.0.1)\n",
            "Requirement already satisfied: pyyaml>=5.1 in /usr/local/lib/python3.10/dist-packages (from uvicorn[standard]>=0.12.0->fastapi) (6.0.1)\n",
            "Requirement already satisfied: uvloop!=0.15.0,!=0.15.1,>=0.14.0 in /usr/local/lib/python3.10/dist-packages (from uvicorn[standard]>=0.12.0->fastapi) (0.19.0)\n",
            "Requirement already satisfied: watchfiles>=0.13 in /usr/local/lib/python3.10/dist-packages (from uvicorn[standard]>=0.12.0->fastapi) (0.22.0)\n",
            "Requirement already satisfied: websockets>=10.4 in /usr/local/lib/python3.10/dist-packages (from uvicorn[standard]>=0.12.0->fastapi) (12.0)\n",
            "Requirement already satisfied: exceptiongroup in /usr/local/lib/python3.10/dist-packages (from anyio->httpx>=0.23.0->fastapi) (1.2.2)\n",
            "Requirement already satisfied: cachetools<6.0,>=2.0.0 in /usr/local/lib/python3.10/dist-packages (from google-auth<3,>=1.6.3->tensorboard<2.16,>=2.15->tensorflow) (5.4.0)\n",
            "Requirement already satisfied: pyasn1-modules>=0.2.1 in /usr/local/lib/python3.10/dist-packages (from google-auth<3,>=1.6.3->tensorboard<2.16,>=2.15->tensorflow) (0.4.0)\n",
            "Requirement already satisfied: rsa<5,>=3.1.4 in /usr/local/lib/python3.10/dist-packages (from google-auth<3,>=1.6.3->tensorboard<2.16,>=2.15->tensorflow) (4.9)\n",
            "Requirement already satisfied: requests-oauthlib>=0.7.0 in /usr/local/lib/python3.10/dist-packages (from google-auth-oauthlib<2,>=0.5->tensorboard<2.16,>=2.15->tensorflow) (1.3.1)\n",
            "Requirement already satisfied: charset-normalizer<4,>=2 in /usr/local/lib/python3.10/dist-packages (from requests<3,>=2.21.0->tensorboard<2.16,>=2.15->tensorflow) (3.3.2)\n",
            "Requirement already satisfied: urllib3<3,>=1.21.1 in /usr/local/lib/python3.10/dist-packages (from requests<3,>=2.21.0->tensorboard<2.16,>=2.15->tensorflow) (2.0.7)\n",
            "Requirement already satisfied: shellingham>=1.3.0 in /usr/local/lib/python3.10/dist-packages (from typer>=0.12.3->fastapi-cli>=0.0.2->fastapi) (1.5.4)\n",
            "Requirement already satisfied: rich>=10.11.0 in /usr/local/lib/python3.10/dist-packages (from typer>=0.12.3->fastapi-cli>=0.0.2->fastapi) (13.7.1)\n",
            "Requirement already satisfied: pyasn1<0.7.0,>=0.4.6 in /usr/local/lib/python3.10/dist-packages (from pyasn1-modules>=0.2.1->google-auth<3,>=1.6.3->tensorboard<2.16,>=2.15->tensorflow) (0.6.0)\n",
            "Requirement already satisfied: oauthlib>=3.0.0 in /usr/local/lib/python3.10/dist-packages (from requests-oauthlib>=0.7.0->google-auth-oauthlib<2,>=0.5->tensorboard<2.16,>=2.15->tensorflow) (3.2.2)\n",
            "Requirement already satisfied: markdown-it-py>=2.2.0 in /usr/local/lib/python3.10/dist-packages (from rich>=10.11.0->typer>=0.12.3->fastapi-cli>=0.0.2->fastapi) (3.0.0)\n",
            "Requirement already satisfied: pygments<3.0.0,>=2.13.0 in /usr/local/lib/python3.10/dist-packages (from rich>=10.11.0->typer>=0.12.3->fastapi-cli>=0.0.2->fastapi) (2.16.1)\n",
            "Requirement already satisfied: mdurl~=0.1 in /usr/local/lib/python3.10/dist-packages (from markdown-it-py>=2.2.0->rich>=10.11.0->typer>=0.12.3->fastapi-cli>=0.0.2->fastapi) (0.1.2)\n"
          ]
        }
      ]
    },
    {
      "cell_type": "code",
      "source": [],
      "metadata": {
        "id": "QLt4ZC_t4XGx"
      },
      "execution_count": null,
      "outputs": []
    },
    {
      "cell_type": "code",
      "source": [
        "# Save the VAE model\n",
        "vae.save('vae_model.h5')\n",
        "\n",
        "# Save the scaler\n",
        "import joblib\n",
        "joblib.dump(scaler, 'scaler.pkl')\n"
      ],
      "metadata": {
        "colab": {
          "base_uri": "https://localhost:8080/"
        },
        "id": "02YvabjPQYkO",
        "outputId": "a388067c-6bc8-418e-bc28-4dd729e5479a"
      },
      "execution_count": 78,
      "outputs": [
        {
          "output_type": "stream",
          "name": "stderr",
          "text": [
            "/usr/local/lib/python3.10/dist-packages/keras/src/engine/training.py:3103: UserWarning: You are saving your model as an HDF5 file via `model.save()`. This file format is considered legacy. We recommend using instead the native Keras format, e.g. `model.save('my_model.keras')`.\n",
            "  saving_api.save_model(\n"
          ]
        },
        {
          "output_type": "execute_result",
          "data": {
            "text/plain": [
              "['scaler.pkl']"
            ]
          },
          "metadata": {},
          "execution_count": 78
        }
      ]
    },
    {
      "cell_type": "code",
      "source": [
        "from fastapi import FastAPI, HTTPException\n",
        "from pydantic import BaseModel\n",
        "import tensorflow as tf\n",
        "from tensorflow.keras.models import load_model\n",
        "import joblib\n",
        "import numpy as np\n",
        "\n",
        "app = FastAPI()\n",
        "\n",
        "# Load the trained VAE model and scaler\n",
        "vae = load_model('vae_model.h5', compile=False)\n",
        "scaler = joblib.load('scaler.pkl')\n",
        "\n",
        "# Load the encoder part of the VAE model\n",
        "encoder_input = vae.input\n",
        "encoder_output = vae.layers[-4].output  # Adjust based on your model's structure\n",
        "encoder = tf.keras.Model(encoder_input, encoder_output)\n",
        "\n",
        "class Item(BaseModel):\n",
        "    features: list\n",
        "\n",
        "@app.post(\"/predict\")\n",
        "async def predict(item: Item):\n",
        "    try:\n",
        "        # Convert data to numpy array\n",
        "        input_data = np.array([item.features])\n",
        "\n",
        "        # Scale the input data\n",
        "        input_scaled = scaler.transform(input_data)\n",
        "\n",
        "        # Encode the input data\n",
        "        encoded_data = encoder.predict(input_scaled)\n",
        "\n",
        "        # For this example, we'll just return the encoded representation\n",
        "        response = {\n",
        "            'encoded_features': encoded_data.tolist()\n",
        "        }\n",
        "\n",
        "        return response\n",
        "\n",
        "    except Exception as e:\n",
        "        raise HTTPException(status_code=400, detail=str(e))\n"
      ],
      "metadata": {
        "id": "6vK7MSCR4XDi"
      },
      "execution_count": 79,
      "outputs": []
    },
    {
      "cell_type": "code",
      "source": [
        "# Install required libraries\n",
        "!pip install fastapi uvicorn pyngrok\n",
        "\n",
        "# Define your FastAPI app\n",
        "with open('app.py', 'w') as f:\n",
        "    f.write(\"\"\"\n",
        "from fastapi import FastAPI\n",
        "from pydantic import BaseModel\n",
        "\n",
        "app = FastAPI()\n",
        "\n",
        "class Item(BaseModel):\n",
        "    name: str\n",
        "    description: str = None\n",
        "\n",
        "@app.post(\"/items/\")\n",
        "async def create_item(item: Item):\n",
        "    return item\n",
        "    \"\"\")\n",
        "\n",
        "# Run the FastAPI app with Uvicorn in the background\n",
        "!uvicorn app:app --host 0.0.0.0 --port 8000 &\n",
        "\n",
        "# Set up ngrok to expose the FastAPI app\n",
        "from pyngrok import ngrok\n",
        "\n",
        "# Open a tunnel to the web server on port 8000\n",
        "public_url = ngrok.connect(8000)\n",
        "\n",
        "print(f\"Your public URL is: {public_url}\")\n"
      ],
      "metadata": {
        "colab": {
          "base_uri": "https://localhost:8080/"
        },
        "id": "FQr03JpmepNQ",
        "outputId": "466d4d60-c1b9-4b34-c830-6318643d7299"
      },
      "execution_count": 80,
      "outputs": [
        {
          "output_type": "stream",
          "name": "stdout",
          "text": [
            "Requirement already satisfied: fastapi in /usr/local/lib/python3.10/dist-packages (0.111.1)\n",
            "Requirement already satisfied: uvicorn in /usr/local/lib/python3.10/dist-packages (0.30.3)\n",
            "Requirement already satisfied: pyngrok in /usr/local/lib/python3.10/dist-packages (7.2.0)\n",
            "Requirement already satisfied: starlette<0.38.0,>=0.37.2 in /usr/local/lib/python3.10/dist-packages (from fastapi) (0.37.2)\n",
            "Requirement already satisfied: pydantic!=1.8,!=1.8.1,!=2.0.0,!=2.0.1,!=2.1.0,<3.0.0,>=1.7.4 in /usr/local/lib/python3.10/dist-packages (from fastapi) (2.8.2)\n",
            "Requirement already satisfied: typing-extensions>=4.8.0 in /usr/local/lib/python3.10/dist-packages (from fastapi) (4.12.2)\n",
            "Requirement already satisfied: fastapi-cli>=0.0.2 in /usr/local/lib/python3.10/dist-packages (from fastapi) (0.0.4)\n",
            "Requirement already satisfied: httpx>=0.23.0 in /usr/local/lib/python3.10/dist-packages (from fastapi) (0.27.0)\n",
            "Requirement already satisfied: jinja2>=2.11.2 in /usr/local/lib/python3.10/dist-packages (from fastapi) (3.1.4)\n",
            "Requirement already satisfied: python-multipart>=0.0.7 in /usr/local/lib/python3.10/dist-packages (from fastapi) (0.0.9)\n",
            "Requirement already satisfied: email_validator>=2.0.0 in /usr/local/lib/python3.10/dist-packages (from fastapi) (2.2.0)\n",
            "Requirement already satisfied: click>=7.0 in /usr/local/lib/python3.10/dist-packages (from uvicorn) (8.1.7)\n",
            "Requirement already satisfied: h11>=0.8 in /usr/local/lib/python3.10/dist-packages (from uvicorn) (0.14.0)\n",
            "Requirement already satisfied: PyYAML>=5.1 in /usr/local/lib/python3.10/dist-packages (from pyngrok) (6.0.1)\n",
            "Requirement already satisfied: dnspython>=2.0.0 in /usr/local/lib/python3.10/dist-packages (from email_validator>=2.0.0->fastapi) (2.6.1)\n",
            "Requirement already satisfied: idna>=2.0.0 in /usr/local/lib/python3.10/dist-packages (from email_validator>=2.0.0->fastapi) (3.7)\n",
            "Requirement already satisfied: typer>=0.12.3 in /usr/local/lib/python3.10/dist-packages (from fastapi-cli>=0.0.2->fastapi) (0.12.3)\n",
            "Requirement already satisfied: anyio in /usr/local/lib/python3.10/dist-packages (from httpx>=0.23.0->fastapi) (3.7.1)\n",
            "Requirement already satisfied: certifi in /usr/local/lib/python3.10/dist-packages (from httpx>=0.23.0->fastapi) (2024.7.4)\n",
            "Requirement already satisfied: httpcore==1.* in /usr/local/lib/python3.10/dist-packages (from httpx>=0.23.0->fastapi) (1.0.5)\n",
            "Requirement already satisfied: sniffio in /usr/local/lib/python3.10/dist-packages (from httpx>=0.23.0->fastapi) (1.3.1)\n",
            "Requirement already satisfied: MarkupSafe>=2.0 in /usr/local/lib/python3.10/dist-packages (from jinja2>=2.11.2->fastapi) (2.1.5)\n",
            "Requirement already satisfied: annotated-types>=0.4.0 in /usr/local/lib/python3.10/dist-packages (from pydantic!=1.8,!=1.8.1,!=2.0.0,!=2.0.1,!=2.1.0,<3.0.0,>=1.7.4->fastapi) (0.7.0)\n",
            "Requirement already satisfied: pydantic-core==2.20.1 in /usr/local/lib/python3.10/dist-packages (from pydantic!=1.8,!=1.8.1,!=2.0.0,!=2.0.1,!=2.1.0,<3.0.0,>=1.7.4->fastapi) (2.20.1)\n",
            "Requirement already satisfied: httptools>=0.5.0 in /usr/local/lib/python3.10/dist-packages (from uvicorn[standard]>=0.12.0->fastapi) (0.6.1)\n",
            "Requirement already satisfied: python-dotenv>=0.13 in /usr/local/lib/python3.10/dist-packages (from uvicorn[standard]>=0.12.0->fastapi) (1.0.1)\n",
            "Requirement already satisfied: uvloop!=0.15.0,!=0.15.1,>=0.14.0 in /usr/local/lib/python3.10/dist-packages (from uvicorn[standard]>=0.12.0->fastapi) (0.19.0)\n",
            "Requirement already satisfied: watchfiles>=0.13 in /usr/local/lib/python3.10/dist-packages (from uvicorn[standard]>=0.12.0->fastapi) (0.22.0)\n",
            "Requirement already satisfied: websockets>=10.4 in /usr/local/lib/python3.10/dist-packages (from uvicorn[standard]>=0.12.0->fastapi) (12.0)\n",
            "Requirement already satisfied: exceptiongroup in /usr/local/lib/python3.10/dist-packages (from anyio->httpx>=0.23.0->fastapi) (1.2.2)\n",
            "Requirement already satisfied: shellingham>=1.3.0 in /usr/local/lib/python3.10/dist-packages (from typer>=0.12.3->fastapi-cli>=0.0.2->fastapi) (1.5.4)\n",
            "Requirement already satisfied: rich>=10.11.0 in /usr/local/lib/python3.10/dist-packages (from typer>=0.12.3->fastapi-cli>=0.0.2->fastapi) (13.7.1)\n",
            "Requirement already satisfied: markdown-it-py>=2.2.0 in /usr/local/lib/python3.10/dist-packages (from rich>=10.11.0->typer>=0.12.3->fastapi-cli>=0.0.2->fastapi) (3.0.0)\n",
            "Requirement already satisfied: pygments<3.0.0,>=2.13.0 in /usr/local/lib/python3.10/dist-packages (from rich>=10.11.0->typer>=0.12.3->fastapi-cli>=0.0.2->fastapi) (2.16.1)\n",
            "Requirement already satisfied: mdurl~=0.1 in /usr/local/lib/python3.10/dist-packages (from markdown-it-py>=2.2.0->rich>=10.11.0->typer>=0.12.3->fastapi-cli>=0.0.2->fastapi) (0.1.2)\n",
            "\u001b[32mINFO\u001b[0m:     Started server process [\u001b[36m51572\u001b[0m]\n",
            "\u001b[32mINFO\u001b[0m:     Waiting for application startup.\n",
            "\u001b[32mINFO\u001b[0m:     Application startup complete.\n",
            "\u001b[32mINFO\u001b[0m:     Uvicorn running on \u001b[1mhttp://0.0.0.0:8000\u001b[0m (Press CTRL+C to quit)\n",
            "\u001b[32mINFO\u001b[0m:     Shutting down\n",
            "\u001b[32mINFO\u001b[0m:     Waiting for application shutdown.\n",
            "\u001b[32mINFO\u001b[0m:     Application shutdown complete.\n",
            "\u001b[32mINFO\u001b[0m:     Finished server process [\u001b[36m51572\u001b[0m]\n",
            "Your public URL is: NgrokTunnel: \"https://4135-35-231-38-71.ngrok-free.app\" -> \"http://localhost:8000\"\n"
          ]
        }
      ]
    }
  ]
}